{
 "cells": [
  {
   "cell_type": "code",
   "execution_count": 1,
   "metadata": {},
   "outputs": [
    {
     "name": "stdout",
     "output_type": "stream",
     "text": [
      "[8, 9, 10, 11, 12]\n",
      "[8, 9, 10, 11, 12]\n",
      "[2, 4, 6, 8, 10, 12, 14, 16]\n",
      "[1, 5, 9, 13]\n"
     ]
    }
   ],
   "source": [
    "#Question 1  \n",
    "#Given list:\n",
    "x = [1, 2, 3, 4, 5, 6, 7, 8, 9, 10, 11, 12, 13, 14, 15, 16]\n",
    "#produce output-:  [8,9,10,11,12]\n",
    "\n",
    "#Answer:-\n",
    "#a)using slicing from the front (positive)\n",
    "print(x[7:12])\n",
    "#b)using slicing from the back (negative) \n",
    "print(x[7:-4])\n",
    "\n",
    "#2\n",
    "#to print only even no. in list using slicing-:\n",
    "print(x[1::2])\n",
    "\n",
    "#Q3  to print every 4th no. using slicing.\n",
    "print(x[::4])"
   ]
  },
  {
   "cell_type": "code",
   "execution_count": null,
   "metadata": {},
   "outputs": [],
   "source": []
  }
 ],
 "metadata": {
  "kernelspec": {
   "display_name": "Python 3",
   "language": "python",
   "name": "python3"
  },
  "language_info": {
   "codemirror_mode": {
    "name": "ipython",
    "version": 3
   },
   "file_extension": ".py",
   "mimetype": "text/x-python",
   "name": "python",
   "nbconvert_exporter": "python",
   "pygments_lexer": "ipython3",
   "version": "3.6.5"
  }
 },
 "nbformat": 4,
 "nbformat_minor": 2
}
